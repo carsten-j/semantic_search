{
 "cells": [
  {
   "cell_type": "code",
   "execution_count": 21,
   "metadata": {},
   "outputs": [],
   "source": [
    "import qdrant_client\n",
    "import requests\n",
    "from fastembed import SparseEmbedding\n",
    "from qdrant_client.models import (\n",
    "    Distance,\n",
    "    NamedSparseVector,\n",
    "    SearchRequest,\n",
    "    SparseIndexParams,\n",
    "    SparseVector,\n",
    "    SparseVectorParams,\n",
    "    VectorParams,\n",
    ")\n",
    "from tqdm import tqdm\n",
    "\n",
    "import create_embeddings as ce"
   ]
  },
  {
   "cell_type": "code",
   "execution_count": 8,
   "metadata": {},
   "outputs": [],
   "source": [
    "rootdir = \"/Users/carsten/Documents/Science/\""
   ]
  },
  {
   "cell_type": "code",
   "execution_count": 9,
   "metadata": {},
   "outputs": [
    {
     "name": "stdout",
     "output_type": "stream",
     "text": [
      "/Users/carsten/Documents/Science/MCMC from Scratch a Practical Introduction to Markov Chain Monte Carlo.pdf\n",
      "/Users/carsten/Documents/Science/Scientific Method, Statistical Method and the Speed of Light.pdf\n",
      "/Users/carsten/Documents/Science/Statistical Thinking in Empirical Enquiry.pdf\n",
      "/Users/carsten/Documents/Science/An Introduction to Sequential Monte Carlo.pdf\n",
      "/Users/carsten/Documents/Science/Mastering Probabilistic Graphical Models using Python.pdf\n",
      "/Users/carsten/Documents/Science/Machine Learning Algorithms in Depth.pdf\n",
      "/Users/carsten/Documents/Science/StatProofBook.pdf\n",
      "/Users/carsten/Documents/Science/Hamiltonian Monte Carlo Methods in Machine Learning.pdf\n",
      "/Users/carsten/Documents/Science/An Introduction to MCMC for Machine Learning.pdf\n",
      "/Users/carsten/Documents/Science/An Introduction to Probabilistic Programming.pdf\n",
      "/Users/carsten/Documents/Science/Statistics/Think Stats 2nd ed.pdf\n",
      "/Users/carsten/Documents/Science/Statistics/Introduction to Statistics at DTU.pdf\n",
      "/Users/carsten/Documents/Science/Statistics/OpenIntro Statistics.pdf\n",
      "/Users/carsten/Documents/Science/Statistics/Python for Probability Statistics and Machine learning 2nd ed.pdf\n",
      "/Users/carsten/Documents/Science/Statistics/Modern Statistics A Computer-Based Approach with Python.pdf\n",
      "/Users/carsten/Documents/Science/Statistics/Introduction to Modern Statistics 2e.pdf\n",
      "/Users/carsten/Documents/Science/Statistics/Industrial Statistics a Computer-Based Approach with Python.pdf\n",
      "/Users/carsten/Documents/Science/Statistics/All Of Statistics.pdf\n",
      "/Users/carsten/Documents/Science/Statistics/Monte Carlo Statistical Methods.pdf\n",
      "/Users/carsten/Documents/Science/Statistics/Introduction to Probability.pdf\n",
      "/Users/carsten/Documents/Science/Statistics/Introduction to Modern Statistics.pdf\n",
      "/Users/carsten/Documents/Science/Statistics/Advanced Statistical Computing.pdf\n",
      "/Users/carsten/Documents/Science/Statistics/Modern Mathematical Statistics with Applications 3rd edition.pdf\n",
      "/Users/carsten/Documents/Science/Statistics/Generalized Linear Models.pdf\n",
      "/Users/carsten/Documents/Science/Statistics/Statistics/Statistical Regression and Classification From Linear Models to Machine Learning.pdf\n",
      "/Users/carsten/Documents/Science/Statistics/Statistics/probability_cheatsheet.pdf\n",
      "/Users/carsten/Documents/Science/Statistics/Statistics/Essential Medical Statistics 2nd ed.pdf\n",
      "/Users/carsten/Documents/Science/Statistics/Statistics/Introduction to Probability and Statistics for Engineers and Scientists.pdf\n",
      "/Users/carsten/Documents/Science/Statistics/Statistics/What are the most important statistical ideas of the past 50 years.pdf\n",
      "/Users/carsten/Documents/Science/Statistics/Statistics/Regression and other Stories.pdf\n",
      "/Users/carsten/Documents/Science/Statistics/Statistics/What is a P-Value Anyway_Vickers_Andrew.pdf\n",
      "/Users/carsten/Documents/Science/Statistics/Statistics/seeing-theory.pdf\n",
      "/Users/carsten/Documents/Science/Statistics/Statistics/Computer Age Statistical Inference.pdf\n",
      "/Users/carsten/Documents/Science/Statistics/Statistics/Advanced High School Statistics.pdf\n",
      "/Users/carsten/Documents/Science/Statistics/Statistics/Statistics in a Nutshell.pdf\n",
      "/Users/carsten/Documents/Science/Statistics/Statistics/Statistics Done Wrong.pdf\n",
      "/Users/carsten/Documents/Science/Statistics/Statistics/Сumming2012.pdf\n",
      "/Users/carsten/Documents/Science/Statistics/Statistics/All of Nonparametric Statistics.pdf\n",
      "/Users/carsten/Documents/Science/Statistics/Statistics/Introduction to Statistics in Metrology.pdf\n",
      "/Users/carsten/Documents/Science/Statistics/Statistics/What If.pdf\n",
      "/Users/carsten/Documents/Science/Statistics/Statistics/Mathematical Statistics and Data Analysis 3ed.pdf\n",
      "/Users/carsten/Documents/Science/Statistics/Statistics/nonparametric_statistics_a_step-by-step_approach.pdf\n",
      "/Users/carsten/Documents/Science/Statistics/Statistics/Practical Statistics for Data Scientists 2nd ed.pdf\n",
      "/Users/carsten/Documents/Science/Statistics/Artikler/Bayesian workflow.pdf\n",
      "/Users/carsten/Documents/Science/Statistics/Artikler/Warning of a forthcoming collapse of the Atlantic meridional overturning circulation.pdf\n",
      "/Users/carsten/Documents/Science/Statistics/Artikler/Statistical errors (p-values).pdf\n",
      "/Users/carsten/Documents/Science/Statistics/Artikler/Using sequences of life-events to predict human lives.pdf\n",
      "/Users/carsten/Documents/Science/Statistics/Artikler/Statistical Significance, p-Values, and the Reporting of Uncertainty.pdf\n",
      "/Users/carsten/Documents/Science/Statistics/Artikler/Non-Experimental Data, Hypothesis Testing, and the Likelihood Principle. A Social Science Perspective.pdf\n",
      "/Users/carsten/Documents/Science/TeX/ChkTeX.pdf\n",
      "/Users/carsten/Documents/Science/TeX/The LaTeX Companion.pdf\n",
      "/Users/carsten/Documents/Science/TeX/symbols-a4.pdf\n",
      "/Users/carsten/Documents/Science/TeX/The Not So Short Introduction to LaTeX.pdf\n",
      "/Users/carsten/Documents/Science/TeX/A Guide to LaTeX.pdf\n",
      "/Users/carsten/Documents/Science/LLM/The Hundred-page Language Models Book.pdf\n",
      "/Users/carsten/Documents/Science/LLM/Foundations of Large Language Models.pdf\n",
      "/Users/carsten/Documents/Science/LLM/Generative Deep Learning Teaching Machines to Paint Write Compose and Play 2nd ed.pdf\n",
      "/Users/carsten/Documents/Science/LLM/DeepSeek_R1.pdf\n",
      "/Users/carsten/Documents/Science/LLM/Build a Large Language Model.pdf\n",
      "/Users/carsten/Documents/Science/LLM/MemGPT Towards LLMs as Operating Systems.pdf\n",
      "/Users/carsten/Documents/Science/LLM/Learn Generative AI with PyTorch.pdf\n",
      "/Users/carsten/Documents/Science/Springer/Statistics/2014_Book_ProbabilityTheory.pdf\n",
      "/Users/carsten/Documents/Science/Springer/Statistics/2005_Book_AModernIntroductionToProbabili.pdf\n",
      "/Users/carsten/Documents/Science/Springer/Statistics/2013_Book_ProbabilityTheory.pdf\n",
      "/Users/carsten/Documents/Science/Springer/Statistics/2009_Book_TheElementsOfStatisticalLearni.pdf\n",
      "/Users/carsten/Documents/Science/Springer/Statistics/2016_Book_BrownianMotionMartingalesAndSt.pdf\n",
      "/Users/carsten/Documents/Science/Springer/Statistics/2018_Book_PhilosophicalAndMathematicalLo.pdf\n",
      "/Users/carsten/Documents/Science/Springer/Mathematics/2016_Book_IntroductionToPartialDifferent.pdf\n",
      "/Users/carsten/Documents/Science/Springer/Mathematics/2015_Book_UnderstandingAnalysis.pdf\n",
      "/Users/carsten/Documents/Science/Springer/Mathematics/2015_Book_LinearAlgebra.pdf\n",
      "/Users/carsten/Documents/Science/Springer/Mathematics/2018_Book_AppliedLinearAlgebra.pdf\n",
      "/Users/carsten/Documents/Science/Springer/Mathematics/2018_Book_APythagoreanIntroductionToNumb.pdf\n",
      "/Users/carsten/Documents/Science/Springer/Mathematics/2014_Book_CalculusWithApplications.pdf\n",
      "/Users/carsten/Documents/Science/Springer/Mathematics/2016_Book_APrimerOnScientificProgramming.pdf\n",
      "/Users/carsten/Documents/Science/Springer/Mathematics/2015_Book_RealAnalysis.pdf\n",
      "/Users/carsten/Documents/Science/Springer/Mathematics/2015_Book_MethodsOfMathematicalModelling.pdf\n",
      "/Users/carsten/Documents/Science/Springer/Mathematics/2015_Book_AppliedPartialDifferentialEqua.pdf\n",
      "/Users/carsten/Documents/Science/Springer/Mathematics/2017_Book_ModelingLife.pdf\n",
      "/Users/carsten/Documents/Science/Springer/Mathematics/2018_Book_AbstractAlgebra.pdf\n",
      "/Users/carsten/Documents/Science/Springer/Mathematics/2014_Book_MultivariateCalculusAndGeometr.pdf\n",
      "/Users/carsten/Documents/Science/Springer/Mathematics/2013_Book_ElementaryAnalysis.pdf\n",
      "/Users/carsten/Documents/Science/Springer/Philosophy/2018_Book_MathematicalLogic.pdf\n",
      "/Users/carsten/Documents/Science/Springer/Philosophy/2018_Book_IntroductionToFormalPhilosophy.pdf\n",
      "/Users/carsten/Documents/Science/Springer/Philosophy/2016_Book_PhilosophyOfScienceForScientis.pdf\n",
      "/Users/carsten/Documents/Science/Springer/Philosophy/2016_Book_TheNatureOfScientificKnowledge.pdf\n",
      "/Users/carsten/Documents/Science/Springer/Philosophy/2018_Book_PhilosophicalAndMathematicalLo.pdf\n",
      "/Users/carsten/Documents/Science/Springer/Physics/2016_Book_BasicConceptsInComputationalPh.pdf\n",
      "/Users/carsten/Documents/Science/Springer/Physics/2018_Book_QuantumMechanicsForPedestrians_2.pdf\n",
      "/Users/carsten/Documents/Science/Springer/Physics/2018_Book_QuantumMechanicsForPedestrians_1.pdf\n",
      "/Users/carsten/Documents/Science/Springer/Physics/2017_Book_StatisticsAndAnalysisOfScienticData.pdf\n",
      "/Users/carsten/Documents/Science/Springer/Physics/2017_Book_ComputationalPhysics.pdf\n",
      "/Users/carsten/Documents/Science/Springer/Physics/2017_Book_FoundationsOfQuantumMechanics.pdf\n",
      "/Users/carsten/Documents/Science/Springer/Physics/2015_Book_IntermediatePhysicsForMedicine.pdf\n",
      "/Users/carsten/Documents/Science/Springer/Physics/2014_Book_DataAnalysis.pdf\n",
      "/Users/carsten/Documents/Science/Springer/Physics/2018_Book_LinearAlgebraAndAnalyticGeomet.pdf\n",
      "/Users/carsten/Documents/Science/Springer/Physics/2018_Book_AFirstIntroductionToQuantumPhy.pdf\n",
      "/Users/carsten/Documents/Science/Springer/Physics/2017_Book_MechanicsAndThermodynamics.pdf\n",
      "/Users/carsten/Documents/Science/Springer/Physics/2018_Book_IntroductoryQuantumMechanics.pdf\n",
      "/Users/carsten/Documents/Science/Springer/Physics/2015_Book_ElementaryMechanicsUsingPython.pdf\n",
      "/Users/carsten/Documents/Science/Springer/Physics/2015_Book_FluidDynamics.pdf\n",
      "/Users/carsten/Documents/Science/Springer/Physics/2018_Book_IntroductionToGeneralRelativit.pdf\n",
      "/Users/carsten/Documents/Science/Springer/ComputerScience/2016_Book_GuideToDiscreteMathematics.pdf\n",
      "/Users/carsten/Documents/Science/Springer/ComputerScience/2017_Book_EyeTrackingMethodology.pdf\n",
      "/Users/carsten/Documents/Science/Springer/ComputerScience/2018_Book_IntroductionToParallelComputin.pdf\n",
      "/Users/carsten/Documents/Science/Springer/ComputerScience/2018_Book_IntroductionToDeepLearning.pdf\n",
      "/Users/carsten/Documents/Science/Springer/ComputerScience/2018_Book_NeuralNetworksAndDeepLearning.pdf\n",
      "/Users/carsten/Documents/Science/Springer/ComputerScience/2019_Book_AdvancedGuideToPython3Programm.pdf\n",
      "/Users/carsten/Documents/Science/Springer/ComputerScience/2015_Book_DataStructuresAndAlgorithmsWit.pdf\n",
      "/Users/carsten/Documents/Science/Springer/ComputerScience/2018_Book_AnalysisForComputerScientists.pdf\n",
      "/Users/carsten/Documents/Science/Python/Python for Data Analysis 3rd Edition.pdf\n",
      "/Users/carsten/Documents/Science/Python/Fluent Python.pdf\n",
      "/Users/carsten/Documents/Science/Python/A Primer on Scientific Programming with Python.pdf\n",
      "/Users/carsten/Documents/Science/Python/Data Science from Scratch First Principles with Python.pdf\n",
      "/Users/carsten/Documents/Science/Python/Python Crash Course.pdf\n",
      "/Users/carsten/Documents/Science/Python/Hypermodern Python Tooling.pdf\n",
      "/Users/carsten/Documents/Science/Python/Numerical Python.pdf\n",
      "/Users/carsten/Documents/Science/Python/Scientific Visualization Python and Matplotlib.pdf\n",
      "/Users/carsten/Documents/Science/Python/Programming for Computations - Python.pdf\n",
      "/Users/carsten/Documents/Science/Python/Introducing Python Modern Computing in Simple Packages.pdf\n",
      "/Users/carsten/Documents/Science/Python/Automate The Boring Stuff With Python Practical Programming.pdf\n",
      "/Users/carsten/Documents/Science/Python/PyTorch/Mastering PyTorch.pdf\n",
      "/Users/carsten/Documents/Science/Python/PyTorch/Modern Computer Vision with PyTorch - Second Edition.pdf\n",
      "/Users/carsten/Documents/Science/Python/PyTorch/Programming Pytorch for Deep Learning.pdf\n",
      "/Users/carsten/Documents/Science/DeepLearning/Probabilistic Machine Learning An Introduction.pdf\n",
      "/Users/carsten/Documents/Science/DeepLearning/Probabilistic Machine Learning Advanced Topics Supplement.pdf\n",
      "/Users/carsten/Documents/Science/DeepLearning/Neural Networks and Deep Learning.pdf\n",
      "/Users/carsten/Documents/Science/DeepLearning/Machine Learning A Probabilistic Perspective.pdf\n",
      "/Users/carsten/Documents/Science/DeepLearning/Pattern Recognition And Machine Learning.pdf\n",
      "/Users/carsten/Documents/Science/DeepLearning/Probabilistic Machine Learning Advanced Topics.pdf\n",
      "/Users/carsten/Documents/Science/DeepLearning/Deep Learning for Coders with fastai and PyTorch.pdf\n",
      "/Users/carsten/Documents/Science/DeepLearning/Understanding Deep Learning.pdf\n",
      "/Users/carsten/Documents/Science/DeepLearning/Deep Learning with Python 3rd Edition.pdf\n",
      "/Users/carsten/Documents/Science/DeepLearning/Dive into Deep Learning.pdf\n",
      "/Users/carsten/Documents/Science/DeepLearning/Deep Learning with Python 2nd Edition.pdf\n",
      "/Users/carsten/Documents/Science/DeepLearning/Deep Learning Book.pdf\n",
      "/Users/carsten/Documents/Science/DeepLearning/Artikler/Learning representations by back-propagating errors.pdf\n",
      "/Users/carsten/Documents/Science/DeepLearning/Artikler/An overview of gradient descent optimization algorithms.pdf\n",
      "/Users/carsten/Documents/Science/Science/Probability Theory - The Science of Logic.pdf\n",
      "/Users/carsten/Documents/Science/Science/Fooled by Randomness.pdf\n",
      "/Users/carsten/Documents/Science/Science/Human Compatible.pdf\n",
      "/Users/carsten/Documents/Science/Science/The Alignment Problem.pdf\n",
      "/Users/carsten/Documents/Science/Science/The History of Statistics.pdf\n",
      "/Users/carsten/Documents/Science/Science/Thinking, Fast and Slow.pdf\n",
      "/Users/carsten/Documents/Science/Science/Bernoullis Fallacy Statistical Illogic and the Crisis of Modern Science.pdf\n",
      "/Users/carsten/Documents/Science/Science/The Theory that would not Die.pdf\n",
      "/Users/carsten/Documents/Science/NotCategorized/Graphical-Models-with-R.pdf\n",
      "/Users/carsten/Documents/Science/NotCategorized/Scientific Computing.pdf\n",
      "/Users/carsten/Documents/Science/NotCategorized/The New Statistics with R.pdf\n",
      "/Users/carsten/Documents/Science/NotCategorized/Bayesian Optimization.pdf\n",
      "/Users/carsten/Documents/Science/NotCategorized/Bayesian Optimization in Action.pdf\n",
      "/Users/carsten/Documents/Science/NotCategorized/Modeling Social Behavior Mathematical and Agent-based-Models of Social Dynamics and Cultural Evolution.pdf\n",
      "/Users/carsten/Documents/Science/NotCategorized/A First Course in Probability (10th Edition)-Pearson (2018).pdf\n",
      "/Users/carsten/Documents/Science/NotCategorized/Foundations of Deep Reinforcement Learning.pdf\n",
      "/Users/carsten/Documents/Science/NotCategorized/Statistical Methods for Machine Learning.pdf\n",
      "/Users/carsten/Documents/Science/NotCategorized/Probability and statistics for engineers and scientists - Ross.pdf\n",
      "/Users/carsten/Documents/Science/NotCategorized/Bayesian Applications in Environmental and Ecological Studies with R and Stan.pdf\n",
      "/Users/carsten/Documents/Science/NotCategorized/Statistical Mechanics Algorithms and Computations.pdf\n",
      "/Users/carsten/Documents/Science/NotCategorized/Applied Regression Analysis and Generalized LinearM odels.pdf\n",
      "/Users/carsten/Documents/Science/NotCategorized/Applied Multivariate Statistical Analysis 6th Edition.pdf\n",
      "/Users/carsten/Documents/Science/NotCategorized/Python Machine Learning.pdf\n",
      "/Users/carsten/Documents/Science/NotCategorized/definettiwasright.pdf\n",
      "/Users/carsten/Documents/Science/NotCategorized/Main_Day1.pdf\n",
      "/Users/carsten/Documents/Science/NotCategorized/telling-stories-with-data-with-applications-in-r-9.pdf\n",
      "/Users/carsten/Documents/Science/NotCategorized/Data Science on AWS.pdf\n",
      "/Users/carsten/Documents/Science/NotCategorized/Sequential Decision Analytics and Modeling Modeling with Python.pdf\n",
      "/Users/carsten/Documents/Science/NotCategorized/Probabilistic Machine Learning for Finance and Investing.pdf\n",
      "/Users/carsten/Documents/Science/NotCategorized/Artificial Intelligence A Modern Approach (3rd Edition).pdf\n",
      "/Users/carsten/Documents/Science/NotCategorized/Golub, Van Loan - Matrix Computations.pdf\n",
      "/Users/carsten/Documents/Science/NotCategorized/Ten simple rules for writing and sharing computational analyses in Jupyter Notebooks.pdf\n",
      "/Users/carsten/Documents/Science/NotCategorized/Information Theory, Inference, and Learning Algorithms.pdf\n",
      "/Users/carsten/Documents/Science/NotCategorized/Functional Differential Geometry.pdf\n",
      "/Users/carsten/Documents/Science/NotCategorized/An Introduction to Generalized Linear Models.pdf\n",
      "/Users/carsten/Documents/Science/NotCategorized/Designing Machine Learning Systems.pdf\n",
      "/Users/carsten/Documents/Science/Bayes/Bayesian Statistics The Fun Way.pdf\n",
      "/Users/carsten/Documents/Science/Bayes/A First Course in Bayesian Statistical Methods.pdf\n",
      "/Users/carsten/Documents/Science/Bayes/Bayesian Analysis with Python.pdf\n",
      "/Users/carsten/Documents/Science/Bayes/Doing Bayesian Data Analysis.pdf\n",
      "/Users/carsten/Documents/Science/Bayes/Think Bayes. Bayesian Statistics in Python.pdf\n",
      "/Users/carsten/Documents/Science/Bayes/Data Analysis. A Bayesian Tutorial 2nd ed.pdf\n",
      "/Users/carsten/Documents/Science/Bayes/Statistical Rethinking Solutions.pdf\n",
      "/Users/carsten/Documents/Science/Bayes/Statistical Rethinking 1st Ed.pdf\n",
      "/Users/carsten/Documents/Science/Bayes/Bayesian Methods for Hackers.pdf\n",
      "/Users/carsten/Documents/Science/Bayes/Statistical Rethinking.pdf\n",
      "/Users/carsten/Documents/Science/Bayes/Baysian Data Analysis 3rd ed.pdf\n",
      "/Users/carsten/Documents/Science/Bayes/Probabilistic Numerics.pdf\n",
      "/Users/carsten/Documents/Science/Bayes/An Introduction to MCMC for Machine Learning.pdf\n",
      "/Users/carsten/Documents/Science/Bayes/The Bayesian Choice 2nd ed.pdf\n",
      "/Users/carsten/Documents/Science/MachineLearning/Applied Machine Learning.pdf\n",
      "/Users/carsten/Documents/Science/MachineLearning/The Elements of Statistical Learning.pdf\n",
      "/Users/carsten/Documents/Science/MachineLearning/Machine Learning with PyTorch and Scikit-Learn.pdf\n",
      "/Users/carsten/Documents/Science/MachineLearning/An Introduction to Statistical Learning.pdf\n",
      "/Users/carsten/Documents/Science/MachineLearning/Hands-On Machine Learning with Scikit-Learn, Keras, and TensorFlow.pdf\n",
      "/Users/carsten/Documents/Science/MachineLearning/The Hundred-Page Machine Learning Book.pdf\n",
      "/Users/carsten/Documents/Science/MachineLearning/Artikler/LightGBM A Highly Efficient Gradient Boosting Decision Tree.pdf\n",
      "/Users/carsten/Documents/Science/MachineLearning/Artikler/XGBoost A Scalable Tree Boosting System.pdf\n",
      "/Users/carsten/Documents/Science/Math/Mat 3AL.pdf\n",
      "/Users/carsten/Documents/Science/Math/Mathematics for Machine Learning.pdf\n",
      "/Users/carsten/Documents/Science/Math/Mat 3AL forside.pdf\n",
      "/Users/carsten/Documents/Science/Math/Optimization/Learning Theory from First Principles.pdf\n",
      "/Users/carsten/Documents/Science/Math/Optimization/Algorithms for Optimization.pdf\n",
      "/Users/carsten/Documents/Science/Math/Optimization/Convex Optimization.pdf\n",
      "/Users/carsten/Documents/Science/Math/MeasureTheory/Measure, Integration and Real Analysis.pdf\n",
      "/Users/carsten/Documents/Science/Math/MeasureTheory/An Introduction to Measure Theory.pdf\n",
      "/Users/carsten/Documents/Science/Math/MeasureTheory/Probability, Theory and Examples.pdf\n",
      "/Users/carsten/Documents/Science/Math/MeasureTheory/Measure Theory.pdf\n",
      "/Users/carsten/Documents/Science/Math/LinearAlgebra/Linear Algebra.pdf\n",
      "/Users/carsten/Documents/Science/Math/LinearAlgebra/Introduction to Linear Algebra.pdf\n",
      "/Users/carsten/Documents/Science/Math/LinearAlgebra/Linear Algebra Done Right.pdf\n",
      "/Users/carsten/Documents/Science/Math/Calculus/Analysis Now.pdf\n",
      "/Users/carsten/Documents/Science/Math/Calculus/Analysis 2.pdf\n",
      "/Users/carsten/Documents/Science/Math/Calculus/Analysis 1.pdf\n",
      "/Users/carsten/Documents/Science/NLP/Natural Language Processing with Transformers revised edition.pdf\n",
      "/Users/carsten/Documents/Science/AppliedStatistics2023/Data Reduction and Error Analysis.pdf\n",
      "/Users/carsten/Documents/Science/AppliedStatistics2023/Statistics a Guide to the Use of Statistical Methods in the Physical Sciences.pdf\n",
      "/Users/carsten/Documents/Science/AppliedStatistics2023/Statistical Data Analysis.pdf\n",
      "/Users/carsten/Documents/Science/AppliedStatistics2023/Fischer.pdf\n",
      "/Users/carsten/Documents/Science/AppliedStatistics2023/Project_Group6_ChristineJakobMakitoNiels.pdf\n",
      "/Users/carsten/Documents/Science/AppliedStatistics2023/Project_Group5_CarstenDavidSebastianSimon.pdf\n",
      "/Users/carsten/Documents/Science/AppliedStatistics2023/An Introduction to Error Analysis.pdf\n",
      "/Users/carsten/Documents/Science/AppliedStatistics2023/Practical Statistics for Particle Physics.pdf\n",
      "/Users/carsten/Documents/Science/AppliedStatistics2023/AS2023_LABscheduleV2.0_27nov.pdf\n",
      "/Users/carsten/Documents/Science/AppliedStatistics2023/MLE/Testing Goodness of Fit.pdf\n",
      "/Users/carsten/Documents/Science/AppliedStatistics2023/MLE/master.pdf\n",
      "/Users/carsten/Documents/Science/AppliedStatistics2023/MLE/Statistics_Fitting_II.pdf\n",
      "/Users/carsten/Documents/Science/AppliedStatistics2023/MLE/statistics-ii.pdf\n",
      "/Users/carsten/Documents/Science/AppliedStatistics2023/MLE/statistik_15.06.10.pdf\n",
      "/Users/carsten/Documents/Science/PML2024/Frequentism and Bayesianism. A Python-driven Primer.pdf\n",
      "/Users/carsten/Documents/Science/PML2024/Probabilistic Graphical Models.pdf\n",
      "/Users/carsten/Documents/Science/PML2024/Trefethen-Bau.pdf\n",
      "/Users/carsten/Documents/Science/PML2024/Self Assessment.pdf\n",
      "/Users/carsten/Documents/Science/PML2024/Machine Learning The Science of Selection under Uncertainty.pdf\n",
      "/Users/carsten/Documents/Science/PML2024/the-two-schools-of-probability-theory.pdf\n",
      "/Users/carsten/Documents/Science/PML2024/Monte Carlo Gradient Estimation in Machine Learning.pdf\n",
      "/Users/carsten/Documents/Science/PML2024/Variational Inference Foundations and Modern Methods.pdf\n",
      "/Users/carsten/Documents/Science/PML2024/two-schools.pdf\n",
      "/Users/carsten/Documents/Science/PML2024/Machine Learning Algorithms in Depth.pdf\n",
      "/Users/carsten/Documents/Science/PML2024/Axiomatic Characterizations of Information Measures.pdf\n",
      "/Users/carsten/Documents/Science/PML2024/cox.pdf\n",
      "/Users/carsten/Documents/Science/PML2024/A Mathematical Theory of Communication.pdf\n",
      "/Users/carsten/Documents/Science/PML2024/ProbabilityFrequencyReasonableExpectation.pdf\n",
      "/Users/carsten/Documents/Science/PML2024/Probability and Computing.pdf\n",
      "/Users/carsten/Documents/Science/PML2024/Probability and Statistics for Computer Science.pdf\n",
      "/Users/carsten/Documents/Science/PML2024/Assignments/PML_Group5_A1.pdf\n",
      "/Users/carsten/Documents/Science/PML2024/Assignments/PML_Group5_A3.pdf\n",
      "/Users/carsten/Documents/Science/PML2024/Assignments/PML_Group5_A2.pdf\n",
      "/Users/carsten/Documents/Science/PML2024/Week6/Slides.pdf\n",
      "/Users/carsten/Documents/Science/PML2024/Week6/DDPM_and_score_matching.pdf\n",
      "/Users/carsten/Documents/Science/PML2024/Week1/PML_Week1_Interpretation.pdf\n",
      "/Users/carsten/Documents/Science/PML2024/Week1/Notes_PML_Oswin.pdf\n",
      "/Users/carsten/Documents/Science/PML2024/Week1/PML_23_graphical_models.pdf\n",
      "/Users/carsten/Documents/Science/PML2024/Week1/The Matrix Cookbook.pdf\n",
      "/Users/carsten/Documents/Science/PML2024/Week1/PML_Week1_GLM.pdf\n",
      "/Users/carsten/Documents/Science/PML2024/Week7/Slides.pdf\n",
      "/Users/carsten/Documents/Science/PML2024/Week7/Aleatoric and epistemic uncertainty in machine learning: an introduction to concepts and methods.pdf\n",
      "/Users/carsten/Documents/Science/PML2024/Examl/PML2024_Project.pdf\n",
      "/Users/carsten/Documents/Science/PML2024/Examl/PML___Exam_project_2024_2025.pdf\n",
      "/Users/carsten/Documents/Science/PML2024/Week2/Slides1.pdf\n",
      "/Users/carsten/Documents/Science/PML2024/Week2/Slides2.pdf\n",
      "/Users/carsten/Documents/Science/PML2024/GP/Gaussian Processes for Machine Learning.pdf\n",
      "/Users/carsten/Documents/Science/PML2024/GP/A Survey of Constrained Gaussian Process Regression- Approaches and Implementation Challenges.pdf\n",
      "/Users/carsten/Documents/Science/PML2024/GP/Automatic Model Construction with Gaussian Processes.pdf\n",
      "/Users/carsten/Documents/Science/PML2024/GP/Introduction to Gaussian Processes.pdf\n",
      "/Users/carsten/Documents/Science/PML2024/Week5/PML_Diffusion.pdf\n",
      "/Users/carsten/Documents/Science/PML2024/Week5/PML_Random_Fields.pdf\n",
      "/Users/carsten/Documents/Science/PML2024/Week4/Rank-normalization, folding, and localization.pdf\n",
      "/Users/carsten/Documents/Science/PML2024/Week4/A Conceptual Introduction to Hamiltonian Monte Carlo.pdf\n",
      "/Users/carsten/Documents/Science/PML2024/Week4/PML_HMC.pdf\n",
      "/Users/carsten/Documents/Science/PML2024/Week4/PML_GP2.pdf\n",
      "/Users/carsten/Documents/Science/PML2024/Week3/Slides.pdf\n",
      "/Users/carsten/Documents/Science/PML2024/Week3/PML_Pyro.pdf\n",
      "/Users/carsten/Documents/Science/PML2024/Week3/Pyro Deep Universal Probabilistic Programming.pdf\n",
      "/Users/carsten/Documents/Science/PML2024/Week3/Importance Sampling.pdf\n",
      "/Users/carsten/Documents/Science/PML2024/DDPM/Score-based Generative Modeling Through\n",
      "Stochastic Differential Equations.pdf\n",
      "/Users/carsten/Documents/Science/PML2024/DDPM/Inference-Time Scaling for Diffusion Models beyond Scaling Denoising Steps.pdf\n",
      "/Users/carsten/Documents/Science/PML2024/DDPM/Variational Diffusion Models.pdf\n",
      "/Users/carsten/Documents/Science/PML2024/DDPM/Tutorial on Diffusion Models for Imaging and Vision.pdf\n",
      "/Users/carsten/Documents/Science/PML2024/DDPM/TabDDPM Modelling Tabular Data with Diffusion Models.pdf\n",
      "/Users/carsten/Documents/Science/PML2024/DDPM/Denoising Diffusion Probabilistic Models.pdf\n",
      "/Users/carsten/Documents/Science/PML2024/DDPM/Improved Denoising Diffusion Probabilistic Models.pdf\n",
      "/Users/carsten/Documents/Science/PML2024/DDPM/Denoising Diffusion Implicit Models.pdf\n",
      "/Users/carsten/Documents/Science/PML2024/PRML/PRML_Solution_Manual.pdf\n",
      "/Users/carsten/Documents/Science/PML2024/PRML/bishop_solutions.pdf\n",
      "/Users/carsten/Documents/Science/PML2024/PRML/prml-web-sol-2009-09-08.pdf\n",
      "/Users/carsten/Documents/Science/PML2024/VAE/Variational Inference A Review for Statisticians.pdf\n",
      "/Users/carsten/Documents/Science/PML2024/VAE/cont_bern_aux.pdf\n",
      "/Users/carsten/Documents/Science/PML2024/VAE/An Introduction to Variational Autoencoders.pdf\n",
      "/Users/carsten/Documents/Science/PML2024/VAE/Autoencoders and their applications in machine learning - a survey.pdf\n",
      "/Users/carsten/Documents/Science/PML2024/VAE/The continuous Bernoulli - fixing a pervasive error in variational autoencoders.pdf\n",
      "/Users/carsten/Documents/Science/PML2024/VAE/Stochastic Variational Inference.pdf\n",
      "/Users/carsten/Documents/Science/PML2024/VAE/Auto-Encoding Variational Bayes.pdf\n",
      "/Users/carsten/Documents/Science/PML2024/VAE/Variational Methods for Machine Learning with Applications to Deep Networks.pdf\n",
      "/Users/carsten/Documents/Science/PML2024/VAE/Variational Bayesian Learning Theory.pdf\n",
      "/Users/carsten/Documents/Science/PML2024/VAE/A Tutorial on Variational Bayesian inference.pdf\n",
      "/Users/carsten/Documents/Science/PML2024/VAE/Variational Inference.pdf\n",
      "/Users/carsten/Documents/Science/ReinforcementLearning/A Little Bit of Reinforcement Learning from Human Feedback.pdf\n",
      "/Users/carsten/Documents/Science/ReinforcementLearning/Reinforcement Learning An introduction.pdf\n",
      "/Users/carsten/Documents/Science/ReinforcementLearning/Deep Reinforcement Learning Hands-On.pdf\n"
     ]
    }
   ],
   "source": [
    "docs = ce.read_pdfs(rootdir)"
   ]
  },
  {
   "cell_type": "code",
   "execution_count": 10,
   "metadata": {},
   "outputs": [
    {
     "data": {
      "text/plain": [
       "101517"
      ]
     },
     "execution_count": 10,
     "metadata": {},
     "output_type": "execute_result"
    }
   ],
   "source": [
    "len(docs)"
   ]
  },
  {
   "cell_type": "code",
   "execution_count": 11,
   "metadata": {},
   "outputs": [],
   "source": [
    "points = ce._create_points(docs)"
   ]
  },
  {
   "cell_type": "code",
   "execution_count": 22,
   "metadata": {},
   "outputs": [],
   "source": [
    "qdrant_client = qdrant_client.QdrantClient(\"localhost:6333\")"
   ]
  },
  {
   "cell_type": "code",
   "execution_count": 23,
   "metadata": {},
   "outputs": [
    {
     "name": "stdout",
     "output_type": "stream",
     "text": [
      "Creating collection\n",
      "Collection created True\n"
     ]
    }
   ],
   "source": [
    "collection_name = \"PDFs\"\n",
    "\n",
    "exists = qdrant_client.collection_exists(collection_name=collection_name)\n",
    "\n",
    "if not exists:\n",
    "    print(\"Creating collection\")\n",
    "    created = qdrant_client.create_collection(\n",
    "        collection_name,\n",
    "        vectors_config={\n",
    "            \"text-dense\": VectorParams(\n",
    "                size=1024,\n",
    "                distance=Distance.COSINE,\n",
    "            )\n",
    "        },\n",
    "        sparse_vectors_config={\n",
    "            \"text-sparse\": SparseVectorParams(\n",
    "                index=SparseIndexParams(\n",
    "                    on_disk=False,\n",
    "                )\n",
    "            )\n",
    "        },\n",
    "    )\n",
    "    print(f\"Collection created {created}\")"
   ]
  },
  {
   "cell_type": "code",
   "execution_count": 24,
   "metadata": {},
   "outputs": [
    {
     "name": "stderr",
     "output_type": "stream",
     "text": [
      "100%|██████████| 459/459 [00:49<00:00,  9.18it/s]\n"
     ]
    }
   ],
   "source": [
    "batch_size = 1000\n",
    "\n",
    "for i in tqdm(range(0, len(points), batch_size)):\n",
    "    batch = points[i : i + batch_size]\n",
    "    qdrant_client.upsert(collection_name, batch)"
   ]
  },
  {
   "cell_type": "code",
   "execution_count": 25,
   "metadata": {},
   "outputs": [],
   "source": [
    "def search(query_text: str):\n",
    "    query_sparse_vectors: list[SparseEmbedding] = ce.make_sparse_embedding([query_text])\n",
    "\n",
    "    search_results = qdrant_client.search_batch(\n",
    "        collection_name=collection_name,\n",
    "        requests=[\n",
    "            SearchRequest(\n",
    "                vector=NamedSparseVector(\n",
    "                    name=\"text-sparse\",\n",
    "                    vector=SparseVector(\n",
    "                        indices=query_sparse_vectors[0].indices.tolist(),\n",
    "                        values=query_sparse_vectors[0].values.tolist(),\n",
    "                    ),\n",
    "                ),\n",
    "                limit=10,\n",
    "                with_payload=True,\n",
    "            ),\n",
    "        ],\n",
    "    )\n",
    "\n",
    "    return search_results"
   ]
  },
  {
   "cell_type": "code",
   "execution_count": 26,
   "metadata": {},
   "outputs": [
    {
     "name": "stderr",
     "output_type": "stream",
     "text": [
      "/var/folders/fy/zx0sb02j5rv66mcpx65ldmvc0000gn/T/ipykernel_42536/109803577.py:4: DeprecationWarning: `search_batch` method is deprecated and will be removed in the future. Use `query_batch_points` instead.\n",
      "  search_results = qdrant_client.search_batch(\n"
     ]
    }
   ],
   "source": [
    "query_text = \"reinforcement learning\"\n",
    "search_results = search(query_text)"
   ]
  },
  {
   "cell_type": "code",
   "execution_count": 27,
   "metadata": {},
   "outputs": [
    {
     "data": {
      "text/plain": [
       "[[ScoredPoint(id=453935, version=453, score=6.888141, payload={'page': 382, 'source': '/Users/carsten/Documents/Science/ReinforcementLearning/Reinforcement Learning An introduction.pdf', 'text': 'several publications that propose theories of behavioral vigor based on reinforcement\\nlearning.\\nWe turn now to the subject of learning when reinforcing stimuli occur well after the\\nevents they reinforce. The mechanisms used by reinforcement learning algorithms to\\nenable learning with delayed reinforcement—eligibility traces and TD learning—closely\\ncorrespond to psychologists’ hypotheses about how animals can learn under these condi-\\ntions.\\n14.4\\nDelayed Reinforcement'}, vector=None, shard_key=None, order_value=None),\n",
       "  ScoredPoint(id=300952, version=300, score=6.8126993, payload={'page': 47, 'source': '/Users/carsten/Documents/Science/NotCategorized/Foundations of Deep Reinforcement Learning.pdf', 'text': '1.6 Reinforcement Learning and Supervised Learning\\n19\\n1.6\\nReinforcement Learning and\\nSupervised Learning\\nAt the core of deep reinforcement learning is function approximation. This is something\\nit shares with supervised learning (SL).6 However, reinforcement learning is unlike\\nsupervised learning in a number of ways. There are three main differences:\\n. Lack of an oracle7\\n. Sparsity of feedback\\n. Data generated during training\\n1.6.1\\nLack of an Oracle'}, vector=None, shard_key=None, order_value=None),\n",
       "  ScoredPoint(id=453784, version=453, score=6.803466, payload={'page': 362, 'source': '/Users/carsten/Documents/Science/ReinforcementLearning/Reinforcement Learning An introduction.pdf', 'text': 'at the core of reinforcement learning is contributing to our understanding of otherwise\\npuzzling features of animal learning and behavior.\\nSome of the correspondences between reinforcement learning and psychological theories\\nare not surprising because the development of reinforcement learning drew inspiration\\nfrom psychological learning theories. However, as developed in this book, reinforcement\\nlearning explores idealized situations from the perspective of an artiﬁcial intelligence'}, vector=None, shard_key=None, order_value=None),\n",
       "  ScoredPoint(id=266627, version=266, score=6.788436, payload={'page': 39, 'source': '/Users/carsten/Documents/Science/DeepLearning/Deep Learning Book.pdf', 'text': 'of reinforcement learning. In the context of reinforcement learning, an autonomous\\nagent must learn to perform a task by trial and error, without any guidance from\\nthe human operator. DeepMind demonstrated that a reinforcement learning system\\nbased on deep learning is capable of learning to play Atari video games, reaching\\nhuman-level performance on many tasks (\\n,\\n). Deep learning has\\nMnih et al. 2015\\nalso signiﬁcantly improved the performance of reinforcement learning for robotics\\n(\\n,\\n).\\nFinn et al. 2015'}, vector=None, shard_key=None, order_value=None),\n",
       "  ScoredPoint(id=190576, version=190, score=6.7852564, payload={'page': 431, 'source': '/Users/carsten/Documents/Science/Springer/ComputerScience/2018_Book_NeuralNetworksAndDeepLearning.pdf', 'text': '416\\nCHAPTER 9. DEEP REINFORCEMENT LEARNING\\nReinforcement learning can also improve deep learning models. This is achieved with the\\nnotion of attention [338, 540], in which reinforcement learning is used to focus on selective\\nparts of the data. The idea is that large parts of the data are often irrelevant for learning, and\\nlearning how to focus on selective portions of the data can signiﬁcantly improve results. The\\nselection of relevant portions of the data is achieved with reinforcement learning. Attention'}, vector=None, shard_key=None, order_value=None),\n",
       "  ScoredPoint(id=369533, version=369, score=6.7712884, payload={'page': 287, 'source': '/Users/carsten/Documents/Science/Bayes/Probabilistic Numerics.pdf', 'text': '276\\nV Global Optimisation\\n▶34.2\\nReinforcement Learning\\nBayesian optimisation has connections to, but distinctions from\\nreinforcement learning.6 Both reinforcement learning and Bayes-\\n6 Sutton and Barto (1998)\\nian optimisation address a (partially-observed) Markov decision\\nprocess. As a first point of distinction, however, reinforcement\\nlearning and Bayesian optimisation tackle slightly different prob-\\nlems. Reinforcement learning cares about the returned evalua-'}, vector=None, shard_key=None, order_value=None),\n",
       "  ScoredPoint(id=190255, version=190, score=6.7582893, payload={'page': 389, 'source': '/Users/carsten/Documents/Science/Springer/ComputerScience/2018_Book_NeuralNetworksAndDeepLearning.pdf', 'text': '374\\nCHAPTER 9. DEEP REINFORCEMENT LEARNING\\nA reward-driven trial-and-error process, in which a system learns to interact with a\\ncomplex environment to achieve rewarding outcomes, is referred to in machine learning\\nparlance as reinforcement learning. In reinforcement learning, the process of trial and error\\nis driven by the need to maximize the expected rewards over time. Reinforcement learning\\ncan be a gateway to the quest for creating truly intelligent agents such as game-playing'}, vector=None, shard_key=None, order_value=None),\n",
       "  ScoredPoint(id=280355, version=280, score=6.7539215, payload={'page': 358, 'source': '/Users/carsten/Documents/Science/Science/The Alignment Problem.pdf', 'text': 'Diuk, Cohen, and Littman, “An Object-Oriented Representation for Efficient Reinforcement\\nLearning,” which used the game Pitfall! as an environment for reinforcement learning.\\n5.\\n See Gendron-Bellemare, “Fast, Scalable Algorithms for Reinforcement Learning in High\\nDimensional Domains.”\\n6.\\n Mnih et al., “Playing Atari with Deep Reinforcement Learning.”\\n7.\\n Mnih et al., “Human-Level Control Through Deep Reinforcement Learning.”\\n8.\\n Robert Jaeger, interviewed by John Hardie,'}, vector=None, shard_key=None, order_value=None),\n",
       "  ScoredPoint(id=451776, version=451, score=6.7484503, payload={'page': 23, 'source': '/Users/carsten/Documents/Science/ReinforcementLearning/Reinforcement Learning An introduction.pdf', 'text': 'because it does not rely on examples of correct behavior, reinforcement learning is trying\\nto maximize a reward signal instead of trying to ﬁnd hidden structure. Uncovering\\nstructure in an agent’s experience can certainly be useful in reinforcement learning, but by\\nitself does not address the reinforcement learning problem of maximizing a reward signal.\\nWe therefore consider reinforcement learning to be a third machine learning paradigm,'}, vector=None, shard_key=None, order_value=None),\n",
       "  ScoredPoint(id=451912, version=451, score=6.73392, payload={'page': 40, 'source': '/Users/carsten/Documents/Science/ReinforcementLearning/Reinforcement Learning An introduction.pdf', 'text': 'reinforcement learning, and to our eventual focus on reinforcement learning. Much of\\nthe early work that we and colleagues accomplished was directed toward showing that\\nreinforcement learning and supervised learning were indeed di↵erent (Barto, Sutton, and\\nBrouwer, 1981; Barto and Sutton, 1981b; Barto and Anandan, 1985). Other studies\\nshowed how reinforcement learning could address important problems in artiﬁcial neural'}, vector=None, shard_key=None, order_value=None)]]"
      ]
     },
     "execution_count": 27,
     "metadata": {},
     "output_type": "execute_result"
    }
   ],
   "source": [
    "search_results"
   ]
  },
  {
   "cell_type": "code",
   "execution_count": null,
   "metadata": {},
   "outputs": [
    {
     "data": {
      "text/plain": [
       "ScoredPoint(id=6863, version=0, score=3.4013352394104004, payload={'page': 198, 'source': '/Users/carsten/Documents/Science/LLM/Learn Generative AI with PyTorch.pdf', 'text': '# obtain average encoding for each group\\n_,_,women_g_encodings=vae.encoder(women_g_batch)\\nwomen_g_encoding=women_g_encodings.mean(dim=0)\\n_,_,men_ng_encodings=vae.encoder(men_ng_batch)\\nmen_ng_encoding=men_ng_encodings.mean(dim=0)\\n_,_,women_ng_encodings=vae.encoder(women_ng_batch)\\nwomen_ng_encoding=women_ng_encodings.mean(dim=0)                  #D\\n# decode for each group\\nwomen_g_recon=vae.decoder(women_g_encoding.unsqueeze(0))\\nmen_ng_recon=vae.decoder(men_ng_encoding.unsqueeze(0))'}, vector=None, shard_key=None, order_value=None)"
      ]
     },
     "execution_count": 177,
     "metadata": {},
     "output_type": "execute_result"
    }
   ],
   "source": [
    "search_results[0][0]"
   ]
  },
  {
   "cell_type": "code",
   "execution_count": null,
   "metadata": {},
   "outputs": [
    {
     "data": {
      "text/plain": [
       "'/Users/carsten/Documents/Science/LLM/Learn Generative AI with PyTorch.pdf'"
      ]
     },
     "execution_count": 180,
     "metadata": {},
     "output_type": "execute_result"
    }
   ],
   "source": [
    "search_results[0][0].payload[\"source\"]"
   ]
  },
  {
   "cell_type": "code",
   "execution_count": null,
   "metadata": {},
   "outputs": [
    {
     "name": "stdout",
     "output_type": "stream",
     "text": [
      "file:///Users/carsten/Documents/Science/LLM/Learn%20Generative%20AI%20with%20PyTorch.pdf#page=194\n"
     ]
    }
   ],
   "source": [
    "import webbrowser\n",
    "\n",
    "result = search_results[0][1]\n",
    "\n",
    "url = f\"file://{result.payload['source']}#page={result.payload['page']}\"\n",
    "url = url.replace(\" \", \"%20\")\n",
    "print(url)"
   ]
  },
  {
   "cell_type": "code",
   "execution_count": null,
   "metadata": {},
   "outputs": [
    {
     "name": "stderr",
     "output_type": "stream",
     "text": [
      "huggingface/tokenizers: The current process just got forked, after parallelism has already been used. Disabling parallelism to avoid deadlocks...\n",
      "To disable this warning, you can either:\n",
      "\t- Avoid using `tokenizers` before the fork if possible\n",
      "\t- Explicitly set the environment variable TOKENIZERS_PARALLELISM=(true | false)\n",
      "huggingface/tokenizers: The current process just got forked, after parallelism has already been used. Disabling parallelism to avoid deadlocks...\n",
      "To disable this warning, you can either:\n",
      "\t- Avoid using `tokenizers` before the fork if possible\n",
      "\t- Explicitly set the environment variable TOKENIZERS_PARALLELISM=(true | false)\n"
     ]
    }
   ],
   "source": [
    "from selenium import webdriver\n",
    "\n",
    "driver = webdriver.Chrome()  # Optional argument, if not specified will search path.\n",
    "driver.get(url)"
   ]
  },
  {
   "cell_type": "code",
   "execution_count": null,
   "metadata": {},
   "outputs": [
    {
     "name": "stderr",
     "output_type": "stream",
     "text": [
      "huggingface/tokenizers: The current process just got forked, after parallelism has already been used. Disabling parallelism to avoid deadlocks...\n",
      "To disable this warning, you can either:\n",
      "\t- Avoid using `tokenizers` before the fork if possible\n",
      "\t- Explicitly set the environment variable TOKENIZERS_PARALLELISM=(true | false)\n"
     ]
    },
    {
     "data": {
      "text/plain": [
       "True"
      ]
     },
     "execution_count": 190,
     "metadata": {},
     "output_type": "execute_result"
    }
   ],
   "source": [
    "url2 = \"file:///Users/carsten/Documents/Science/LLM/Learn%20Generative%20AI%20with%20PyTorch.pdf#page=198\"\n",
    "webbrowser.open(url2)"
   ]
  },
  {
   "cell_type": "code",
   "execution_count": null,
   "metadata": {},
   "outputs": [
    {
     "name": "stderr",
     "output_type": "stream",
     "text": [
      "huggingface/tokenizers: The current process just got forked, after parallelism has already been used. Disabling parallelism to avoid deadlocks...\n",
      "To disable this warning, you can either:\n",
      "\t- Avoid using `tokenizers` before the fork if possible\n",
      "\t- Explicitly set the environment variable TOKENIZERS_PARALLELISM=(true | false)\n",
      "huggingface/tokenizers: The current process just got forked, after parallelism has already been used. Disabling parallelism to avoid deadlocks...\n",
      "To disable this warning, you can either:\n",
      "\t- Avoid using `tokenizers` before the fork if possible\n",
      "\t- Explicitly set the environment variable TOKENIZERS_PARALLELISM=(true | false)\n"
     ]
    }
   ],
   "source": [
    "from selenium import webdriver\n",
    "\n",
    "driver = webdriver.Chrome()  # Optional argument, if not specified will search path.\n",
    "driver.get(url2)"
   ]
  },
  {
   "cell_type": "code",
   "execution_count": 6,
   "metadata": {},
   "outputs": [
    {
     "ename": "ConnectionError",
     "evalue": "HTTPConnectionPool(host='localhost', port=8000): Max retries exceeded with url: /document (Caused by NewConnectionError('<urllib3.connection.HTTPConnection object at 0x11a9f6db0>: Failed to establish a new connection: [Errno 61] Connection refused'))",
     "output_type": "error",
     "traceback": [
      "\u001b[31m---------------------------------------------------------------------------\u001b[39m",
      "\u001b[31mConnectionRefusedError\u001b[39m                    Traceback (most recent call last)",
      "\u001b[36mFile \u001b[39m\u001b[32m~/Dev/semantic_search/.venv/lib/python3.12/site-packages/urllib3/connection.py:198\u001b[39m, in \u001b[36mHTTPConnection._new_conn\u001b[39m\u001b[34m(self)\u001b[39m\n\u001b[32m    197\u001b[39m \u001b[38;5;28;01mtry\u001b[39;00m:\n\u001b[32m--> \u001b[39m\u001b[32m198\u001b[39m     sock = \u001b[43mconnection\u001b[49m\u001b[43m.\u001b[49m\u001b[43mcreate_connection\u001b[49m\u001b[43m(\u001b[49m\n\u001b[32m    199\u001b[39m \u001b[43m        \u001b[49m\u001b[43m(\u001b[49m\u001b[38;5;28;43mself\u001b[39;49m\u001b[43m.\u001b[49m\u001b[43m_dns_host\u001b[49m\u001b[43m,\u001b[49m\u001b[43m \u001b[49m\u001b[38;5;28;43mself\u001b[39;49m\u001b[43m.\u001b[49m\u001b[43mport\u001b[49m\u001b[43m)\u001b[49m\u001b[43m,\u001b[49m\n\u001b[32m    200\u001b[39m \u001b[43m        \u001b[49m\u001b[38;5;28;43mself\u001b[39;49m\u001b[43m.\u001b[49m\u001b[43mtimeout\u001b[49m\u001b[43m,\u001b[49m\n\u001b[32m    201\u001b[39m \u001b[43m        \u001b[49m\u001b[43msource_address\u001b[49m\u001b[43m=\u001b[49m\u001b[38;5;28;43mself\u001b[39;49m\u001b[43m.\u001b[49m\u001b[43msource_address\u001b[49m\u001b[43m,\u001b[49m\n\u001b[32m    202\u001b[39m \u001b[43m        \u001b[49m\u001b[43msocket_options\u001b[49m\u001b[43m=\u001b[49m\u001b[38;5;28;43mself\u001b[39;49m\u001b[43m.\u001b[49m\u001b[43msocket_options\u001b[49m\u001b[43m,\u001b[49m\n\u001b[32m    203\u001b[39m \u001b[43m    \u001b[49m\u001b[43m)\u001b[49m\n\u001b[32m    204\u001b[39m \u001b[38;5;28;01mexcept\u001b[39;00m socket.gaierror \u001b[38;5;28;01mas\u001b[39;00m e:\n",
      "\u001b[36mFile \u001b[39m\u001b[32m~/Dev/semantic_search/.venv/lib/python3.12/site-packages/urllib3/util/connection.py:85\u001b[39m, in \u001b[36mcreate_connection\u001b[39m\u001b[34m(address, timeout, source_address, socket_options)\u001b[39m\n\u001b[32m     84\u001b[39m \u001b[38;5;28;01mtry\u001b[39;00m:\n\u001b[32m---> \u001b[39m\u001b[32m85\u001b[39m     \u001b[38;5;28;01mraise\u001b[39;00m err\n\u001b[32m     86\u001b[39m \u001b[38;5;28;01mfinally\u001b[39;00m:\n\u001b[32m     87\u001b[39m     \u001b[38;5;66;03m# Break explicitly a reference cycle\u001b[39;00m\n",
      "\u001b[36mFile \u001b[39m\u001b[32m~/Dev/semantic_search/.venv/lib/python3.12/site-packages/urllib3/util/connection.py:73\u001b[39m, in \u001b[36mcreate_connection\u001b[39m\u001b[34m(address, timeout, source_address, socket_options)\u001b[39m\n\u001b[32m     72\u001b[39m     sock.bind(source_address)\n\u001b[32m---> \u001b[39m\u001b[32m73\u001b[39m \u001b[43msock\u001b[49m\u001b[43m.\u001b[49m\u001b[43mconnect\u001b[49m\u001b[43m(\u001b[49m\u001b[43msa\u001b[49m\u001b[43m)\u001b[49m\n\u001b[32m     74\u001b[39m \u001b[38;5;66;03m# Break explicitly a reference cycle\u001b[39;00m\n",
      "\u001b[31mConnectionRefusedError\u001b[39m: [Errno 61] Connection refused",
      "\nThe above exception was the direct cause of the following exception:\n",
      "\u001b[31mNewConnectionError\u001b[39m                        Traceback (most recent call last)",
      "\u001b[36mFile \u001b[39m\u001b[32m~/Dev/semantic_search/.venv/lib/python3.12/site-packages/urllib3/connectionpool.py:787\u001b[39m, in \u001b[36mHTTPConnectionPool.urlopen\u001b[39m\u001b[34m(self, method, url, body, headers, retries, redirect, assert_same_host, timeout, pool_timeout, release_conn, chunked, body_pos, preload_content, decode_content, **response_kw)\u001b[39m\n\u001b[32m    786\u001b[39m \u001b[38;5;66;03m# Make the request on the HTTPConnection object\u001b[39;00m\n\u001b[32m--> \u001b[39m\u001b[32m787\u001b[39m response = \u001b[38;5;28;43mself\u001b[39;49m\u001b[43m.\u001b[49m\u001b[43m_make_request\u001b[49m\u001b[43m(\u001b[49m\n\u001b[32m    788\u001b[39m \u001b[43m    \u001b[49m\u001b[43mconn\u001b[49m\u001b[43m,\u001b[49m\n\u001b[32m    789\u001b[39m \u001b[43m    \u001b[49m\u001b[43mmethod\u001b[49m\u001b[43m,\u001b[49m\n\u001b[32m    790\u001b[39m \u001b[43m    \u001b[49m\u001b[43murl\u001b[49m\u001b[43m,\u001b[49m\n\u001b[32m    791\u001b[39m \u001b[43m    \u001b[49m\u001b[43mtimeout\u001b[49m\u001b[43m=\u001b[49m\u001b[43mtimeout_obj\u001b[49m\u001b[43m,\u001b[49m\n\u001b[32m    792\u001b[39m \u001b[43m    \u001b[49m\u001b[43mbody\u001b[49m\u001b[43m=\u001b[49m\u001b[43mbody\u001b[49m\u001b[43m,\u001b[49m\n\u001b[32m    793\u001b[39m \u001b[43m    \u001b[49m\u001b[43mheaders\u001b[49m\u001b[43m=\u001b[49m\u001b[43mheaders\u001b[49m\u001b[43m,\u001b[49m\n\u001b[32m    794\u001b[39m \u001b[43m    \u001b[49m\u001b[43mchunked\u001b[49m\u001b[43m=\u001b[49m\u001b[43mchunked\u001b[49m\u001b[43m,\u001b[49m\n\u001b[32m    795\u001b[39m \u001b[43m    \u001b[49m\u001b[43mretries\u001b[49m\u001b[43m=\u001b[49m\u001b[43mretries\u001b[49m\u001b[43m,\u001b[49m\n\u001b[32m    796\u001b[39m \u001b[43m    \u001b[49m\u001b[43mresponse_conn\u001b[49m\u001b[43m=\u001b[49m\u001b[43mresponse_conn\u001b[49m\u001b[43m,\u001b[49m\n\u001b[32m    797\u001b[39m \u001b[43m    \u001b[49m\u001b[43mpreload_content\u001b[49m\u001b[43m=\u001b[49m\u001b[43mpreload_content\u001b[49m\u001b[43m,\u001b[49m\n\u001b[32m    798\u001b[39m \u001b[43m    \u001b[49m\u001b[43mdecode_content\u001b[49m\u001b[43m=\u001b[49m\u001b[43mdecode_content\u001b[49m\u001b[43m,\u001b[49m\n\u001b[32m    799\u001b[39m \u001b[43m    \u001b[49m\u001b[43m*\u001b[49m\u001b[43m*\u001b[49m\u001b[43mresponse_kw\u001b[49m\u001b[43m,\u001b[49m\n\u001b[32m    800\u001b[39m \u001b[43m\u001b[49m\u001b[43m)\u001b[49m\n\u001b[32m    802\u001b[39m \u001b[38;5;66;03m# Everything went great!\u001b[39;00m\n",
      "\u001b[36mFile \u001b[39m\u001b[32m~/Dev/semantic_search/.venv/lib/python3.12/site-packages/urllib3/connectionpool.py:493\u001b[39m, in \u001b[36mHTTPConnectionPool._make_request\u001b[39m\u001b[34m(self, conn, method, url, body, headers, retries, timeout, chunked, response_conn, preload_content, decode_content, enforce_content_length)\u001b[39m\n\u001b[32m    492\u001b[39m \u001b[38;5;28;01mtry\u001b[39;00m:\n\u001b[32m--> \u001b[39m\u001b[32m493\u001b[39m     \u001b[43mconn\u001b[49m\u001b[43m.\u001b[49m\u001b[43mrequest\u001b[49m\u001b[43m(\u001b[49m\n\u001b[32m    494\u001b[39m \u001b[43m        \u001b[49m\u001b[43mmethod\u001b[49m\u001b[43m,\u001b[49m\n\u001b[32m    495\u001b[39m \u001b[43m        \u001b[49m\u001b[43murl\u001b[49m\u001b[43m,\u001b[49m\n\u001b[32m    496\u001b[39m \u001b[43m        \u001b[49m\u001b[43mbody\u001b[49m\u001b[43m=\u001b[49m\u001b[43mbody\u001b[49m\u001b[43m,\u001b[49m\n\u001b[32m    497\u001b[39m \u001b[43m        \u001b[49m\u001b[43mheaders\u001b[49m\u001b[43m=\u001b[49m\u001b[43mheaders\u001b[49m\u001b[43m,\u001b[49m\n\u001b[32m    498\u001b[39m \u001b[43m        \u001b[49m\u001b[43mchunked\u001b[49m\u001b[43m=\u001b[49m\u001b[43mchunked\u001b[49m\u001b[43m,\u001b[49m\n\u001b[32m    499\u001b[39m \u001b[43m        \u001b[49m\u001b[43mpreload_content\u001b[49m\u001b[43m=\u001b[49m\u001b[43mpreload_content\u001b[49m\u001b[43m,\u001b[49m\n\u001b[32m    500\u001b[39m \u001b[43m        \u001b[49m\u001b[43mdecode_content\u001b[49m\u001b[43m=\u001b[49m\u001b[43mdecode_content\u001b[49m\u001b[43m,\u001b[49m\n\u001b[32m    501\u001b[39m \u001b[43m        \u001b[49m\u001b[43menforce_content_length\u001b[49m\u001b[43m=\u001b[49m\u001b[43menforce_content_length\u001b[49m\u001b[43m,\u001b[49m\n\u001b[32m    502\u001b[39m \u001b[43m    \u001b[49m\u001b[43m)\u001b[49m\n\u001b[32m    504\u001b[39m \u001b[38;5;66;03m# We are swallowing BrokenPipeError (errno.EPIPE) since the server is\u001b[39;00m\n\u001b[32m    505\u001b[39m \u001b[38;5;66;03m# legitimately able to close the connection after sending a valid response.\u001b[39;00m\n\u001b[32m    506\u001b[39m \u001b[38;5;66;03m# With this behaviour, the received response is still readable.\u001b[39;00m\n",
      "\u001b[36mFile \u001b[39m\u001b[32m~/Dev/semantic_search/.venv/lib/python3.12/site-packages/urllib3/connection.py:445\u001b[39m, in \u001b[36mHTTPConnection.request\u001b[39m\u001b[34m(self, method, url, body, headers, chunked, preload_content, decode_content, enforce_content_length)\u001b[39m\n\u001b[32m    444\u001b[39m     \u001b[38;5;28mself\u001b[39m.putheader(header, value)\n\u001b[32m--> \u001b[39m\u001b[32m445\u001b[39m \u001b[38;5;28;43mself\u001b[39;49m\u001b[43m.\u001b[49m\u001b[43mendheaders\u001b[49m\u001b[43m(\u001b[49m\u001b[43m)\u001b[49m\n\u001b[32m    447\u001b[39m \u001b[38;5;66;03m# If we're given a body we start sending that in chunks.\u001b[39;00m\n",
      "\u001b[36mFile \u001b[39m\u001b[32m/opt/homebrew/Caskroom/miniforge/base/lib/python3.12/http/client.py:1331\u001b[39m, in \u001b[36mHTTPConnection.endheaders\u001b[39m\u001b[34m(self, message_body, encode_chunked)\u001b[39m\n\u001b[32m   1330\u001b[39m     \u001b[38;5;28;01mraise\u001b[39;00m CannotSendHeader()\n\u001b[32m-> \u001b[39m\u001b[32m1331\u001b[39m \u001b[38;5;28;43mself\u001b[39;49m\u001b[43m.\u001b[49m\u001b[43m_send_output\u001b[49m\u001b[43m(\u001b[49m\u001b[43mmessage_body\u001b[49m\u001b[43m,\u001b[49m\u001b[43m \u001b[49m\u001b[43mencode_chunked\u001b[49m\u001b[43m=\u001b[49m\u001b[43mencode_chunked\u001b[49m\u001b[43m)\u001b[49m\n",
      "\u001b[36mFile \u001b[39m\u001b[32m/opt/homebrew/Caskroom/miniforge/base/lib/python3.12/http/client.py:1091\u001b[39m, in \u001b[36mHTTPConnection._send_output\u001b[39m\u001b[34m(self, message_body, encode_chunked)\u001b[39m\n\u001b[32m   1090\u001b[39m \u001b[38;5;28;01mdel\u001b[39;00m \u001b[38;5;28mself\u001b[39m._buffer[:]\n\u001b[32m-> \u001b[39m\u001b[32m1091\u001b[39m \u001b[38;5;28;43mself\u001b[39;49m\u001b[43m.\u001b[49m\u001b[43msend\u001b[49m\u001b[43m(\u001b[49m\u001b[43mmsg\u001b[49m\u001b[43m)\u001b[49m\n\u001b[32m   1093\u001b[39m \u001b[38;5;28;01mif\u001b[39;00m message_body \u001b[38;5;129;01mis\u001b[39;00m \u001b[38;5;129;01mnot\u001b[39;00m \u001b[38;5;28;01mNone\u001b[39;00m:\n\u001b[32m   1094\u001b[39m \n\u001b[32m   1095\u001b[39m     \u001b[38;5;66;03m# create a consistent interface to message_body\u001b[39;00m\n",
      "\u001b[36mFile \u001b[39m\u001b[32m/opt/homebrew/Caskroom/miniforge/base/lib/python3.12/http/client.py:1035\u001b[39m, in \u001b[36mHTTPConnection.send\u001b[39m\u001b[34m(self, data)\u001b[39m\n\u001b[32m   1034\u001b[39m \u001b[38;5;28;01mif\u001b[39;00m \u001b[38;5;28mself\u001b[39m.auto_open:\n\u001b[32m-> \u001b[39m\u001b[32m1035\u001b[39m     \u001b[38;5;28;43mself\u001b[39;49m\u001b[43m.\u001b[49m\u001b[43mconnect\u001b[49m\u001b[43m(\u001b[49m\u001b[43m)\u001b[49m\n\u001b[32m   1036\u001b[39m \u001b[38;5;28;01melse\u001b[39;00m:\n",
      "\u001b[36mFile \u001b[39m\u001b[32m~/Dev/semantic_search/.venv/lib/python3.12/site-packages/urllib3/connection.py:276\u001b[39m, in \u001b[36mHTTPConnection.connect\u001b[39m\u001b[34m(self)\u001b[39m\n\u001b[32m    275\u001b[39m \u001b[38;5;28;01mdef\u001b[39;00m\u001b[38;5;250m \u001b[39m\u001b[34mconnect\u001b[39m(\u001b[38;5;28mself\u001b[39m) -> \u001b[38;5;28;01mNone\u001b[39;00m:\n\u001b[32m--> \u001b[39m\u001b[32m276\u001b[39m     \u001b[38;5;28mself\u001b[39m.sock = \u001b[38;5;28;43mself\u001b[39;49m\u001b[43m.\u001b[49m\u001b[43m_new_conn\u001b[49m\u001b[43m(\u001b[49m\u001b[43m)\u001b[49m\n\u001b[32m    277\u001b[39m     \u001b[38;5;28;01mif\u001b[39;00m \u001b[38;5;28mself\u001b[39m._tunnel_host:\n\u001b[32m    278\u001b[39m         \u001b[38;5;66;03m# If we're tunneling it means we're connected to our proxy.\u001b[39;00m\n",
      "\u001b[36mFile \u001b[39m\u001b[32m~/Dev/semantic_search/.venv/lib/python3.12/site-packages/urllib3/connection.py:213\u001b[39m, in \u001b[36mHTTPConnection._new_conn\u001b[39m\u001b[34m(self)\u001b[39m\n\u001b[32m    212\u001b[39m \u001b[38;5;28;01mexcept\u001b[39;00m \u001b[38;5;167;01mOSError\u001b[39;00m \u001b[38;5;28;01mas\u001b[39;00m e:\n\u001b[32m--> \u001b[39m\u001b[32m213\u001b[39m     \u001b[38;5;28;01mraise\u001b[39;00m NewConnectionError(\n\u001b[32m    214\u001b[39m         \u001b[38;5;28mself\u001b[39m, \u001b[33mf\u001b[39m\u001b[33m\"\u001b[39m\u001b[33mFailed to establish a new connection: \u001b[39m\u001b[38;5;132;01m{\u001b[39;00me\u001b[38;5;132;01m}\u001b[39;00m\u001b[33m\"\u001b[39m\n\u001b[32m    215\u001b[39m     ) \u001b[38;5;28;01mfrom\u001b[39;00m\u001b[38;5;250m \u001b[39m\u001b[34;01me\u001b[39;00m\n\u001b[32m    217\u001b[39m sys.audit(\u001b[33m\"\u001b[39m\u001b[33mhttp.client.connect\u001b[39m\u001b[33m\"\u001b[39m, \u001b[38;5;28mself\u001b[39m, \u001b[38;5;28mself\u001b[39m.host, \u001b[38;5;28mself\u001b[39m.port)\n",
      "\u001b[31mNewConnectionError\u001b[39m: <urllib3.connection.HTTPConnection object at 0x11a9f6db0>: Failed to establish a new connection: [Errno 61] Connection refused",
      "\nThe above exception was the direct cause of the following exception:\n",
      "\u001b[31mMaxRetryError\u001b[39m                             Traceback (most recent call last)",
      "\u001b[36mFile \u001b[39m\u001b[32m~/Dev/semantic_search/.venv/lib/python3.12/site-packages/requests/adapters.py:667\u001b[39m, in \u001b[36mHTTPAdapter.send\u001b[39m\u001b[34m(self, request, stream, timeout, verify, cert, proxies)\u001b[39m\n\u001b[32m    666\u001b[39m \u001b[38;5;28;01mtry\u001b[39;00m:\n\u001b[32m--> \u001b[39m\u001b[32m667\u001b[39m     resp = \u001b[43mconn\u001b[49m\u001b[43m.\u001b[49m\u001b[43murlopen\u001b[49m\u001b[43m(\u001b[49m\n\u001b[32m    668\u001b[39m \u001b[43m        \u001b[49m\u001b[43mmethod\u001b[49m\u001b[43m=\u001b[49m\u001b[43mrequest\u001b[49m\u001b[43m.\u001b[49m\u001b[43mmethod\u001b[49m\u001b[43m,\u001b[49m\n\u001b[32m    669\u001b[39m \u001b[43m        \u001b[49m\u001b[43murl\u001b[49m\u001b[43m=\u001b[49m\u001b[43murl\u001b[49m\u001b[43m,\u001b[49m\n\u001b[32m    670\u001b[39m \u001b[43m        \u001b[49m\u001b[43mbody\u001b[49m\u001b[43m=\u001b[49m\u001b[43mrequest\u001b[49m\u001b[43m.\u001b[49m\u001b[43mbody\u001b[49m\u001b[43m,\u001b[49m\n\u001b[32m    671\u001b[39m \u001b[43m        \u001b[49m\u001b[43mheaders\u001b[49m\u001b[43m=\u001b[49m\u001b[43mrequest\u001b[49m\u001b[43m.\u001b[49m\u001b[43mheaders\u001b[49m\u001b[43m,\u001b[49m\n\u001b[32m    672\u001b[39m \u001b[43m        \u001b[49m\u001b[43mredirect\u001b[49m\u001b[43m=\u001b[49m\u001b[38;5;28;43;01mFalse\u001b[39;49;00m\u001b[43m,\u001b[49m\n\u001b[32m    673\u001b[39m \u001b[43m        \u001b[49m\u001b[43massert_same_host\u001b[49m\u001b[43m=\u001b[49m\u001b[38;5;28;43;01mFalse\u001b[39;49;00m\u001b[43m,\u001b[49m\n\u001b[32m    674\u001b[39m \u001b[43m        \u001b[49m\u001b[43mpreload_content\u001b[49m\u001b[43m=\u001b[49m\u001b[38;5;28;43;01mFalse\u001b[39;49;00m\u001b[43m,\u001b[49m\n\u001b[32m    675\u001b[39m \u001b[43m        \u001b[49m\u001b[43mdecode_content\u001b[49m\u001b[43m=\u001b[49m\u001b[38;5;28;43;01mFalse\u001b[39;49;00m\u001b[43m,\u001b[49m\n\u001b[32m    676\u001b[39m \u001b[43m        \u001b[49m\u001b[43mretries\u001b[49m\u001b[43m=\u001b[49m\u001b[38;5;28;43mself\u001b[39;49m\u001b[43m.\u001b[49m\u001b[43mmax_retries\u001b[49m\u001b[43m,\u001b[49m\n\u001b[32m    677\u001b[39m \u001b[43m        \u001b[49m\u001b[43mtimeout\u001b[49m\u001b[43m=\u001b[49m\u001b[43mtimeout\u001b[49m\u001b[43m,\u001b[49m\n\u001b[32m    678\u001b[39m \u001b[43m        \u001b[49m\u001b[43mchunked\u001b[49m\u001b[43m=\u001b[49m\u001b[43mchunked\u001b[49m\u001b[43m,\u001b[49m\n\u001b[32m    679\u001b[39m \u001b[43m    \u001b[49m\u001b[43m)\u001b[49m\n\u001b[32m    681\u001b[39m \u001b[38;5;28;01mexcept\u001b[39;00m (ProtocolError, \u001b[38;5;167;01mOSError\u001b[39;00m) \u001b[38;5;28;01mas\u001b[39;00m err:\n",
      "\u001b[36mFile \u001b[39m\u001b[32m~/Dev/semantic_search/.venv/lib/python3.12/site-packages/urllib3/connectionpool.py:841\u001b[39m, in \u001b[36mHTTPConnectionPool.urlopen\u001b[39m\u001b[34m(self, method, url, body, headers, retries, redirect, assert_same_host, timeout, pool_timeout, release_conn, chunked, body_pos, preload_content, decode_content, **response_kw)\u001b[39m\n\u001b[32m    839\u001b[39m     new_e = ProtocolError(\u001b[33m\"\u001b[39m\u001b[33mConnection aborted.\u001b[39m\u001b[33m\"\u001b[39m, new_e)\n\u001b[32m--> \u001b[39m\u001b[32m841\u001b[39m retries = \u001b[43mretries\u001b[49m\u001b[43m.\u001b[49m\u001b[43mincrement\u001b[49m\u001b[43m(\u001b[49m\n\u001b[32m    842\u001b[39m \u001b[43m    \u001b[49m\u001b[43mmethod\u001b[49m\u001b[43m,\u001b[49m\u001b[43m \u001b[49m\u001b[43murl\u001b[49m\u001b[43m,\u001b[49m\u001b[43m \u001b[49m\u001b[43merror\u001b[49m\u001b[43m=\u001b[49m\u001b[43mnew_e\u001b[49m\u001b[43m,\u001b[49m\u001b[43m \u001b[49m\u001b[43m_pool\u001b[49m\u001b[43m=\u001b[49m\u001b[38;5;28;43mself\u001b[39;49m\u001b[43m,\u001b[49m\u001b[43m \u001b[49m\u001b[43m_stacktrace\u001b[49m\u001b[43m=\u001b[49m\u001b[43msys\u001b[49m\u001b[43m.\u001b[49m\u001b[43mexc_info\u001b[49m\u001b[43m(\u001b[49m\u001b[43m)\u001b[49m\u001b[43m[\u001b[49m\u001b[32;43m2\u001b[39;49m\u001b[43m]\u001b[49m\n\u001b[32m    843\u001b[39m \u001b[43m\u001b[49m\u001b[43m)\u001b[49m\n\u001b[32m    844\u001b[39m retries.sleep()\n",
      "\u001b[36mFile \u001b[39m\u001b[32m~/Dev/semantic_search/.venv/lib/python3.12/site-packages/urllib3/util/retry.py:519\u001b[39m, in \u001b[36mRetry.increment\u001b[39m\u001b[34m(self, method, url, response, error, _pool, _stacktrace)\u001b[39m\n\u001b[32m    518\u001b[39m     reason = error \u001b[38;5;129;01mor\u001b[39;00m ResponseError(cause)\n\u001b[32m--> \u001b[39m\u001b[32m519\u001b[39m     \u001b[38;5;28;01mraise\u001b[39;00m MaxRetryError(_pool, url, reason) \u001b[38;5;28;01mfrom\u001b[39;00m\u001b[38;5;250m \u001b[39m\u001b[34;01mreason\u001b[39;00m  \u001b[38;5;66;03m# type: ignore[arg-type]\u001b[39;00m\n\u001b[32m    521\u001b[39m log.debug(\u001b[33m\"\u001b[39m\u001b[33mIncremented Retry for (url=\u001b[39m\u001b[33m'\u001b[39m\u001b[38;5;132;01m%s\u001b[39;00m\u001b[33m'\u001b[39m\u001b[33m): \u001b[39m\u001b[38;5;132;01m%r\u001b[39;00m\u001b[33m\"\u001b[39m, url, new_retry)\n",
      "\u001b[31mMaxRetryError\u001b[39m: HTTPConnectionPool(host='localhost', port=8000): Max retries exceeded with url: /document (Caused by NewConnectionError('<urllib3.connection.HTTPConnection object at 0x11a9f6db0>: Failed to establish a new connection: [Errno 61] Connection refused'))",
      "\nDuring handling of the above exception, another exception occurred:\n",
      "\u001b[31mConnectionError\u001b[39m                           Traceback (most recent call last)",
      "\u001b[36mCell\u001b[39m\u001b[36m \u001b[39m\u001b[32mIn[6]\u001b[39m\u001b[32m, line 6\u001b[39m\n\u001b[32m      1\u001b[39m url = \u001b[33m\"\u001b[39m\u001b[33mhttp://localhost:8000/document\u001b[39m\u001b[33m\"\u001b[39m\n\u001b[32m      2\u001b[39m payload = {\n\u001b[32m      3\u001b[39m     \u001b[33m\"\u001b[39m\u001b[33mpage_content\u001b[39m\u001b[33m\"\u001b[39m: docs[\u001b[32m2\u001b[39m].page_content,\n\u001b[32m      4\u001b[39m     \u001b[33m\"\u001b[39m\u001b[33mmetadata\u001b[39m\u001b[33m\"\u001b[39m: docs[\u001b[32m2\u001b[39m].metadata,\n\u001b[32m      5\u001b[39m }\n\u001b[32m----> \u001b[39m\u001b[32m6\u001b[39m response = \u001b[43mrequests\u001b[49m\u001b[43m.\u001b[49m\u001b[43mpost\u001b[49m\u001b[43m(\u001b[49m\u001b[43murl\u001b[49m\u001b[43m,\u001b[49m\u001b[43m \u001b[49m\u001b[43mjson\u001b[49m\u001b[43m=\u001b[49m\u001b[43mpayload\u001b[49m\u001b[43m)\u001b[49m\n\u001b[32m      8\u001b[39m url = \u001b[33m\"\u001b[39m\u001b[33mhttp://localhost:8000/semantic_search\u001b[39m\u001b[33m\"\u001b[39m\n\u001b[32m      9\u001b[39m payload = {\n\u001b[32m     10\u001b[39m     \u001b[33m\"\u001b[39m\u001b[33mquery\u001b[39m\u001b[33m\"\u001b[39m: \u001b[33m\"\u001b[39m\u001b[33mMCMC\u001b[39m\u001b[33m\"\u001b[39m,\n\u001b[32m     11\u001b[39m     \u001b[33m\"\u001b[39m\u001b[33mlimit\u001b[39m\u001b[33m\"\u001b[39m: \u001b[32m3\u001b[39m,\n\u001b[32m     12\u001b[39m }\n",
      "\u001b[36mFile \u001b[39m\u001b[32m~/Dev/semantic_search/.venv/lib/python3.12/site-packages/requests/api.py:115\u001b[39m, in \u001b[36mpost\u001b[39m\u001b[34m(url, data, json, **kwargs)\u001b[39m\n\u001b[32m    103\u001b[39m \u001b[38;5;28;01mdef\u001b[39;00m\u001b[38;5;250m \u001b[39m\u001b[34mpost\u001b[39m(url, data=\u001b[38;5;28;01mNone\u001b[39;00m, json=\u001b[38;5;28;01mNone\u001b[39;00m, **kwargs):\n\u001b[32m    104\u001b[39m \u001b[38;5;250m    \u001b[39m\u001b[33mr\u001b[39m\u001b[33;03m\"\"\"Sends a POST request.\u001b[39;00m\n\u001b[32m    105\u001b[39m \n\u001b[32m    106\u001b[39m \u001b[33;03m    :param url: URL for the new :class:`Request` object.\u001b[39;00m\n\u001b[32m   (...)\u001b[39m\u001b[32m    112\u001b[39m \u001b[33;03m    :rtype: requests.Response\u001b[39;00m\n\u001b[32m    113\u001b[39m \u001b[33;03m    \"\"\"\u001b[39;00m\n\u001b[32m--> \u001b[39m\u001b[32m115\u001b[39m     \u001b[38;5;28;01mreturn\u001b[39;00m \u001b[43mrequest\u001b[49m\u001b[43m(\u001b[49m\u001b[33;43m\"\u001b[39;49m\u001b[33;43mpost\u001b[39;49m\u001b[33;43m\"\u001b[39;49m\u001b[43m,\u001b[49m\u001b[43m \u001b[49m\u001b[43murl\u001b[49m\u001b[43m,\u001b[49m\u001b[43m \u001b[49m\u001b[43mdata\u001b[49m\u001b[43m=\u001b[49m\u001b[43mdata\u001b[49m\u001b[43m,\u001b[49m\u001b[43m \u001b[49m\u001b[43mjson\u001b[49m\u001b[43m=\u001b[49m\u001b[43mjson\u001b[49m\u001b[43m,\u001b[49m\u001b[43m \u001b[49m\u001b[43m*\u001b[49m\u001b[43m*\u001b[49m\u001b[43mkwargs\u001b[49m\u001b[43m)\u001b[49m\n",
      "\u001b[36mFile \u001b[39m\u001b[32m~/Dev/semantic_search/.venv/lib/python3.12/site-packages/requests/api.py:59\u001b[39m, in \u001b[36mrequest\u001b[39m\u001b[34m(method, url, **kwargs)\u001b[39m\n\u001b[32m     55\u001b[39m \u001b[38;5;66;03m# By using the 'with' statement we are sure the session is closed, thus we\u001b[39;00m\n\u001b[32m     56\u001b[39m \u001b[38;5;66;03m# avoid leaving sockets open which can trigger a ResourceWarning in some\u001b[39;00m\n\u001b[32m     57\u001b[39m \u001b[38;5;66;03m# cases, and look like a memory leak in others.\u001b[39;00m\n\u001b[32m     58\u001b[39m \u001b[38;5;28;01mwith\u001b[39;00m sessions.Session() \u001b[38;5;28;01mas\u001b[39;00m session:\n\u001b[32m---> \u001b[39m\u001b[32m59\u001b[39m     \u001b[38;5;28;01mreturn\u001b[39;00m \u001b[43msession\u001b[49m\u001b[43m.\u001b[49m\u001b[43mrequest\u001b[49m\u001b[43m(\u001b[49m\u001b[43mmethod\u001b[49m\u001b[43m=\u001b[49m\u001b[43mmethod\u001b[49m\u001b[43m,\u001b[49m\u001b[43m \u001b[49m\u001b[43murl\u001b[49m\u001b[43m=\u001b[49m\u001b[43murl\u001b[49m\u001b[43m,\u001b[49m\u001b[43m \u001b[49m\u001b[43m*\u001b[49m\u001b[43m*\u001b[49m\u001b[43mkwargs\u001b[49m\u001b[43m)\u001b[49m\n",
      "\u001b[36mFile \u001b[39m\u001b[32m~/Dev/semantic_search/.venv/lib/python3.12/site-packages/requests/sessions.py:589\u001b[39m, in \u001b[36mSession.request\u001b[39m\u001b[34m(self, method, url, params, data, headers, cookies, files, auth, timeout, allow_redirects, proxies, hooks, stream, verify, cert, json)\u001b[39m\n\u001b[32m    584\u001b[39m send_kwargs = {\n\u001b[32m    585\u001b[39m     \u001b[33m\"\u001b[39m\u001b[33mtimeout\u001b[39m\u001b[33m\"\u001b[39m: timeout,\n\u001b[32m    586\u001b[39m     \u001b[33m\"\u001b[39m\u001b[33mallow_redirects\u001b[39m\u001b[33m\"\u001b[39m: allow_redirects,\n\u001b[32m    587\u001b[39m }\n\u001b[32m    588\u001b[39m send_kwargs.update(settings)\n\u001b[32m--> \u001b[39m\u001b[32m589\u001b[39m resp = \u001b[38;5;28;43mself\u001b[39;49m\u001b[43m.\u001b[49m\u001b[43msend\u001b[49m\u001b[43m(\u001b[49m\u001b[43mprep\u001b[49m\u001b[43m,\u001b[49m\u001b[43m \u001b[49m\u001b[43m*\u001b[49m\u001b[43m*\u001b[49m\u001b[43msend_kwargs\u001b[49m\u001b[43m)\u001b[49m\n\u001b[32m    591\u001b[39m \u001b[38;5;28;01mreturn\u001b[39;00m resp\n",
      "\u001b[36mFile \u001b[39m\u001b[32m~/Dev/semantic_search/.venv/lib/python3.12/site-packages/requests/sessions.py:703\u001b[39m, in \u001b[36mSession.send\u001b[39m\u001b[34m(self, request, **kwargs)\u001b[39m\n\u001b[32m    700\u001b[39m start = preferred_clock()\n\u001b[32m    702\u001b[39m \u001b[38;5;66;03m# Send the request\u001b[39;00m\n\u001b[32m--> \u001b[39m\u001b[32m703\u001b[39m r = \u001b[43madapter\u001b[49m\u001b[43m.\u001b[49m\u001b[43msend\u001b[49m\u001b[43m(\u001b[49m\u001b[43mrequest\u001b[49m\u001b[43m,\u001b[49m\u001b[43m \u001b[49m\u001b[43m*\u001b[49m\u001b[43m*\u001b[49m\u001b[43mkwargs\u001b[49m\u001b[43m)\u001b[49m\n\u001b[32m    705\u001b[39m \u001b[38;5;66;03m# Total elapsed time of the request (approximately)\u001b[39;00m\n\u001b[32m    706\u001b[39m elapsed = preferred_clock() - start\n",
      "\u001b[36mFile \u001b[39m\u001b[32m~/Dev/semantic_search/.venv/lib/python3.12/site-packages/requests/adapters.py:700\u001b[39m, in \u001b[36mHTTPAdapter.send\u001b[39m\u001b[34m(self, request, stream, timeout, verify, cert, proxies)\u001b[39m\n\u001b[32m    696\u001b[39m     \u001b[38;5;28;01mif\u001b[39;00m \u001b[38;5;28misinstance\u001b[39m(e.reason, _SSLError):\n\u001b[32m    697\u001b[39m         \u001b[38;5;66;03m# This branch is for urllib3 v1.22 and later.\u001b[39;00m\n\u001b[32m    698\u001b[39m         \u001b[38;5;28;01mraise\u001b[39;00m SSLError(e, request=request)\n\u001b[32m--> \u001b[39m\u001b[32m700\u001b[39m     \u001b[38;5;28;01mraise\u001b[39;00m \u001b[38;5;167;01mConnectionError\u001b[39;00m(e, request=request)\n\u001b[32m    702\u001b[39m \u001b[38;5;28;01mexcept\u001b[39;00m ClosedPoolError \u001b[38;5;28;01mas\u001b[39;00m e:\n\u001b[32m    703\u001b[39m     \u001b[38;5;28;01mraise\u001b[39;00m \u001b[38;5;167;01mConnectionError\u001b[39;00m(e, request=request)\n",
      "\u001b[31mConnectionError\u001b[39m: HTTPConnectionPool(host='localhost', port=8000): Max retries exceeded with url: /document (Caused by NewConnectionError('<urllib3.connection.HTTPConnection object at 0x11a9f6db0>: Failed to establish a new connection: [Errno 61] Connection refused'))"
     ]
    }
   ],
   "source": [
    "url = \"http://localhost:8000/document\"\n",
    "payload = {\n",
    "    \"page_content\": docs[2].page_content,\n",
    "    \"metadata\": docs[2].metadata,\n",
    "}\n",
    "response = requests.post(url, json=payload)\n",
    "\n",
    "url = \"http://localhost:8000/semantic_search\"\n",
    "payload = {\n",
    "    \"query\": \"MCMC\",\n",
    "    \"limit\": 3,\n",
    "}\n",
    "response = requests.post(url, json=payload)"
   ]
  },
  {
   "cell_type": "code",
   "execution_count": null,
   "metadata": {},
   "outputs": [],
   "source": []
  }
 ],
 "metadata": {
  "kernelspec": {
   "display_name": ".venv",
   "language": "python",
   "name": "python3"
  },
  "language_info": {
   "codemirror_mode": {
    "name": "ipython",
    "version": 3
   },
   "file_extension": ".py",
   "mimetype": "text/x-python",
   "name": "python",
   "nbconvert_exporter": "python",
   "pygments_lexer": "ipython3",
   "version": "3.12.8"
  }
 },
 "nbformat": 4,
 "nbformat_minor": 2
}
